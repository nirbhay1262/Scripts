{
 "cells": [
  {
   "cell_type": "code",
   "execution_count": 4,
   "id": "be09e772-6a76-4d44-aed2-8885e794b50d",
   "metadata": {},
   "outputs": [
    {
     "name": "stdout",
     "output_type": "stream",
     "text": [
      "Column Names: Index(['S.No', 'Application/Processing Documentation', 'Document Name',\n",
      "       'Prompt', 'Unnamed: 4'],\n",
      "      dtype='object')\n"
     ]
    }
   ],
   "source": [
    "import pandas as pd\n",
    "import json\n",
    "\n",
    "def excel_to_json(excel_file_path, output_json_file_path):\n",
    "    # Read Excel file and select specific columns\n",
    "    df = pd.read_excel(excel_file_path)\n",
    "    print(\"Column Names:\", df.columns)\n",
    "    \n",
    "    json_data = df[['S.No', 'Document Name', 'Prompt']].to_json(orient='records')\n",
    "    \n",
    "    with open(output_json_file_path, 'w') as json_file:\n",
    "        json_file.write(json_data)\n",
    "\n",
    "\n",
    "\n",
    "\n",
    "excel_file_path = r'C:\\Users\\Nirbhayj\\Downloads\\Excel_json\\Improvised Prompt_set-1-V2.xlsx'\n",
    "output_json_file_path = r'C:\\Users\\Nirbhayj\\Downloads\\Excel_json\\output.json'\n",
    "excel_to_json(excel_file_path, output_json_file_path)\n"
   ]
  },
  {
   "cell_type": "markdown",
   "id": "e7d22f81-4ab9-4dbc-890a-073b29dc1e41",
   "metadata": {},
   "source": [
    "### Above cell is to convert excel to json, which is 1 time process, Weneed not to do that as we already have the base json file."
   ]
  },
  {
   "cell_type": "markdown",
   "id": "d7a374c1-e8e6-47b6-b935-173b1bdca4d3",
   "metadata": {},
   "source": [
    "### Merge PDF files of 1 type"
   ]
  },
  {
   "cell_type": "code",
   "execution_count": null,
   "id": "349d4f24-5a0c-4d96-8ccc-a8bc6e019855",
   "metadata": {},
   "outputs": [],
   "source": [
    "import os\n",
    "from PyPDF2 import PdfWriter, PdfReader\n",
    "\n",
    "def merge_pdfs_with_same_name(folder_path, output_folder):\n",
    "    # Dictionary to store PDFs with the same name\n",
    "    pdf_dict = {}\n",
    "\n",
    "    # Iterate through each file in the folder\n",
    "    for filename in os.listdir(folder_path):\n",
    "        if filename.endswith('.pdf'):\n",
    "            filepath = os.path.join(folder_path, filename)\n",
    "            print(filename)\n",
    "            base_name = os.path.splitext(filename)[0]\n",
    "            parts = base_name.split('_')\n",
    "            merged_text = parts[0] + \"_\" + parts[1]\n",
    "            print(merged_text)\n",
    "\n",
    "            # Check if the base name already exists in the dictionary\n",
    "            if merged_text in pdf_dict:\n",
    "                pdf_dict[merged_text].append(filepath)\n",
    "            else:\n",
    "                pdf_dict[merged_text] = [filepath]\n",
    "\n",
    "    # Iterate through the dictionary and merge PDFs with the same name\n",
    "    for merged_text, filepaths in pdf_dict.items():\n",
    "        writer = PdfWriter()\n",
    "        for filepath in filepaths:\n",
    "            reader = PdfReader(filepath)\n",
    "            for page in range(len(reader.pages)):\n",
    "                writer.add_page(reader.pages[page])\n",
    "\n",
    "        # Output merged PDF to a new file\n",
    "        output_filepath = os.path.join(output_folder, f\"{merged_text}_merged.pdf\")\n",
    "        with open(output_filepath, 'wb') as output_file:\n",
    "            writer.write(output_file)\n",
    "\n",
    "# Example usage\n",
    "folder_path = r'C:\\Users\\Nirbhayj\\Downloads\\OneDrive_2024-02-22\\Honaker 4400261329'\n",
    "output_folder = r'C:\\Users\\Nirbhayj\\Downloads\\OneDrive_2024-02-22\\Honaker'\n",
    "merge_pdfs_with_same_name(folder_path, output_folder)\n"
   ]
  },
  {
   "cell_type": "markdown",
   "id": "18525b1d-bbaf-4de7-a6c4-5499bf155091",
   "metadata": {},
   "source": [
    "### Transform json into request structure"
   ]
  },
  {
   "cell_type": "code",
   "execution_count": 154,
   "id": "ad425c4e-a908-4f41-9201-58311d8fe8e4",
   "metadata": {},
   "outputs": [],
   "source": [
    "import json\n",
    "import re\n",
    "def transform_json(input_json_file_path, output_json_file_path):\n",
    "    with open(input_json_file_path, 'r') as json_file:\n",
    "        data_list = json.load(json_file)\n",
    "\n",
    "    transformed_data_list =[]\n",
    "    for item in data_list: \n",
    "        Questions ={\n",
    "                \"Id\": f\"Q\"+ str(item.get(\"S.No\", \"\")),\n",
    "                \"Documents\": [\n",
    "                    {\n",
    "                       \"type\": item.get(\"Document Name\", \"\"),\n",
    "                        \"byteData\": \"\",\n",
    "                        \"filename\": item[\"Document Name\"] +\".pdf\",\n",
    "                        \"contentType\": \"application/pdf\"\n",
    "                }\n",
    "            ],\n",
    "            \"Prompt\": re.sub(r'\\s+', ' ', item.get(\"Prompt\", \"\")).strip()\n",
    "            }\n",
    "            \n",
    "        transformed_data_list.append(Questions)\n",
    "\n",
    "    with open(output_json_file_path, 'w') as json_file:\n",
    "        json.dump(transformed_data_list, json_file, indent=4)\n",
    "\n",
    "# Example usage:\n",
    "input_json_file_path = r'C:\\Users\\Nirbhayj\\Downloads\\Excel_json\\output.json'\n",
    "output_json_file_path = r'C:\\Users\\Nirbhayj\\Downloads\\Excel_json\\str3_json.json'\n",
    "transform_json(input_json_file_path, output_json_file_path)"
   ]
  },
  {
   "cell_type": "code",
   "execution_count": null,
   "id": "d974f2e2-d38d-4748-89f2-8ce1a9eb5c48",
   "metadata": {},
   "outputs": [],
   "source": []
  },
  {
   "cell_type": "code",
   "execution_count": 145,
   "id": "86576556-5664-446c-9ba0-f08effe4fa72",
   "metadata": {},
   "outputs": [
    {
     "name": "stdout",
     "output_type": "stream",
     "text": [
      "Electronic Disclosure And Consent Agreement\n",
      "45\n"
     ]
    }
   ],
   "source": [
    "import os\n",
    "import json\n",
    "\n",
    "# Define the directory where the files are located\n",
    "folder_path = r\"C:\\Users\\Nirbhayj\\Downloads\\OneDrive_2024-02-22\\Honaker\"\n",
    "\n",
    "# Load the JSON data containing document names\n",
    "# Extract unique document names from the JSON data\n",
    "# print(parsed_data[0][\"Documents\"][0][\"type\"])\n",
    "# print(len(parsed_data))"
   ]
  },
  {
   "cell_type": "code",
   "execution_count": 149,
   "id": "93632afa-483c-4051-8f65-9b2a8e26e032",
   "metadata": {},
   "outputs": [
    {
     "name": "stdout",
     "output_type": "stream",
     "text": [
      "{'Patriot Act Borrower Identification.pdf', 'Servicing Transfer Statement.pdf', 'Your Home Loan Toolkit.pdf', '1005 Uniform Residential Appraisal.pdf', 'Loan Estimate.pdf', 'Electronic Disclosure And Consent Agreement.pdf', 'Intent to Proceed.pdf', 'Purchase Agreement.pdf', 'Appraisal Acknowledgement.pdf', 'Mavent Review.pdf', 'Seller Closing Disclosure.pdf', 'Loan Estimate page 4.pdf', 'Closing Disclosure.pdf', 'Initial URLA - first/earliest dated URLA.pdf', 'Final Closing Disclosure.pdf', 'Borrowers Certification and Authorization Letter.pdf', '1009 Uniform Underwriting and Transmittal Summary.pdf'}\n"
     ]
    }
   ],
   "source": [
    "with open(output_json_file_path, 'r') as json_file:\n",
    "        parsed_data = json.load(json_file)\n",
    "document_names = set()\n",
    "fileName = set()\n",
    "for  i in range(len(parsed_data)):\n",
    "    Document=parsed_data[i][\"Documents\"]\n",
    "    # print(Document)\n",
    "    for j in range(len(Documents)):\n",
    "        docName=Document[j]\n",
    "        document_names.add(docName[\"type\"])\n",
    "        fileName.add(docName[\"filename\"])\n",
    "        # Add the document name to the set\n",
    "        # (document.get(\"Document Name\"))\n",
    "print(fileName)"
   ]
  },
  {
   "cell_type": "markdown",
   "id": "7e3b522c-ccf7-4743-9688-2d3c665091f3",
   "metadata": {},
   "source": [
    "### The below cell is to rename the pdf files."
   ]
  },
  {
   "cell_type": "code",
   "execution_count": 71,
   "id": "a23e3bf2-9fb0-4eb4-9ad5-90b0011e5339",
   "metadata": {},
   "outputs": [
    {
     "name": "stdout",
     "output_type": "stream",
     "text": [
      "Skipping file Borrowers Certification and Authorization Letter.pdf as it is already renamed.\n",
      "Skipping file Closing Disclosure.pdf as it is already renamed.\n",
      "Skipping file Electronic Disclosure And Consent Agreement.pdf as it is already renamed.\n"
     ]
    },
    {
     "ename": "FileExistsError",
     "evalue": "[WinError 183] Cannot create a file when that file already exists: 'C:\\\\Users\\\\Nirbhayj\\\\Downloads\\\\OneDrive_2024-02-22\\\\Honaker\\\\Honaker 4400261329_Sellers Closing Disclosure_merged.pdf' -> 'C:\\\\Users\\\\Nirbhayj\\\\Downloads\\\\OneDrive_2024-02-22\\\\Honaker\\\\Closing Disclosure.pdf'",
     "output_type": "error",
     "traceback": [
      "\u001b[1;31m---------------------------------------------------------------------------\u001b[0m",
      "\u001b[1;31mFileExistsError\u001b[0m                           Traceback (most recent call last)",
      "Cell \u001b[1;32mIn[71], line 31\u001b[0m\n\u001b[0;32m     28\u001b[0m                 \u001b[38;5;28;01mbreak\u001b[39;00m  \u001b[38;5;66;03m# Break the loop once the file is renamed\u001b[39;00m\n\u001b[0;32m     30\u001b[0m \u001b[38;5;66;03m# Call the function to rename files\u001b[39;00m\n\u001b[1;32m---> 31\u001b[0m \u001b[43mrename_files\u001b[49m\u001b[43m(\u001b[49m\u001b[43mfolder_path\u001b[49m\u001b[43m,\u001b[49m\u001b[43m \u001b[49m\u001b[43mdocument_names\u001b[49m\u001b[43m)\u001b[49m\n",
      "Cell \u001b[1;32mIn[71], line 22\u001b[0m, in \u001b[0;36mrename_files\u001b[1;34m(folder_path, document_names)\u001b[0m\n\u001b[0;32m     19\u001b[0m new_filename \u001b[38;5;241m=\u001b[39m \u001b[38;5;124mf\u001b[39m\u001b[38;5;124m\"\u001b[39m\u001b[38;5;132;01m{\u001b[39;00mdocument_name\u001b[38;5;132;01m}\u001b[39;00m\u001b[38;5;124m.pdf\u001b[39m\u001b[38;5;124m\"\u001b[39m\n\u001b[0;32m     21\u001b[0m \u001b[38;5;66;03m# Rename the file to the new filename\u001b[39;00m\n\u001b[1;32m---> 22\u001b[0m os\u001b[38;5;241m.\u001b[39mrename(\n\u001b[0;32m     23\u001b[0m     os\u001b[38;5;241m.\u001b[39mpath\u001b[38;5;241m.\u001b[39mjoin(folder_path, filename),\n\u001b[0;32m     24\u001b[0m     os\u001b[38;5;241m.\u001b[39mpath\u001b[38;5;241m.\u001b[39mjoin(folder_path, new_filename)\n\u001b[0;32m     25\u001b[0m )\n\u001b[0;32m     27\u001b[0m \u001b[38;5;28mprint\u001b[39m(\u001b[38;5;124mf\u001b[39m\u001b[38;5;124m\"\u001b[39m\u001b[38;5;124mRenamed \u001b[39m\u001b[38;5;132;01m{\u001b[39;00mfilename\u001b[38;5;132;01m}\u001b[39;00m\u001b[38;5;124m to \u001b[39m\u001b[38;5;132;01m{\u001b[39;00mnew_filename\u001b[38;5;132;01m}\u001b[39;00m\u001b[38;5;124m\"\u001b[39m)\n\u001b[0;32m     28\u001b[0m \u001b[38;5;28;01mbreak\u001b[39;00m\n",
      "\u001b[1;31mFileExistsError\u001b[0m: [WinError 183] Cannot create a file when that file already exists: 'C:\\\\Users\\\\Nirbhayj\\\\Downloads\\\\OneDrive_2024-02-22\\\\Honaker\\\\Honaker 4400261329_Sellers Closing Disclosure_merged.pdf' -> 'C:\\\\Users\\\\Nirbhayj\\\\Downloads\\\\OneDrive_2024-02-22\\\\Honaker\\\\Closing Disclosure.pdf'"
     ]
    }
   ],
   "source": [
    "import os\n",
    "\n",
    "def rename_files(folder_path, document_names): #document_name is the list of unique document present in the request.\n",
    "    # Iterate through each file in the folder\n",
    "    for filename in os.listdir(folder_path):\n",
    "        if filename.startswith(tuple(document_names)):\n",
    "            print(f\"Skipping file {filename} as it is already renamed.\")\n",
    "            continue\n",
    "        \n",
    "        fName = filename.split(\"_\")[1]\n",
    "        \n",
    "        # Iterate through each document name\n",
    "        for document_name in document_names:\n",
    "            # Check if the document name is present in the filename\n",
    "            if document_name.lower() in fName.lower():\n",
    "                # Construct the new file name with the document name\n",
    "                new_filename = f\"{document_name}.pdf\"\n",
    "                \n",
    "                # Rename the file to the new filename\n",
    "                os.rename(\n",
    "                    os.path.join(folder_path, filename),\n",
    "                    os.path.join(folder_path, new_filename)\n",
    "                )\n",
    "                \n",
    "                print(f\"Renamed {filename} to {new_filename}\")\n",
    "                break  # Break the loop once the file is renamed\n",
    "\n",
    "# Call the function to rename files\n",
    "folder_path = r\"C:\\Users\\Nirbhayj\\Downloads\\OneDrive_2024-02-22\\Honaker\"\n",
    "rename_files(folder_path, document_names)\n"
   ]
  },
  {
   "cell_type": "markdown",
   "id": "e0d35a8c-7baa-4aea-bd47-0a4b33850aef",
   "metadata": {},
   "source": [
    "### Below cell is to convert into base64 and saving into json file."
   ]
  },
  {
   "cell_type": "code",
   "execution_count": 151,
   "id": "8822df20-60d2-48c5-8902-1476ad9ed13b",
   "metadata": {},
   "outputs": [],
   "source": [
    "import os\n",
    "import json\n",
    "import base64\n",
    "\n",
    "def pdf_to_base64(file_path):\n",
    "    with open(file_path, \"rb\") as file:\n",
    "        encoded_string = base64.b64encode(file.read()).decode('utf-8')\n",
    "    return encoded_string\n",
    "\n",
    "# Read the JSON data\n",
    "with open(output_json_file_path, 'r') as json_file:\n",
    "    json_data = json.load(json_file)\n",
    "\n",
    "# Get all unique filenames from the JSON data\n",
    "filenames = set()\n",
    "\n",
    "for  i in range(len(parsed_data)):\n",
    "    Document=parsed_data[i][\"Documents\"]\n",
    "    # print(Document)\n",
    "    for j in range(len(Documents)):\n",
    "        docName=Document[j]\n",
    "        for filename in fileName:\n",
    "            # print(fileName)\n",
    "            pdf_file_path = os.path.join(folder_path, filename)\n",
    "            if os.path.exists(pdf_file_path):\n",
    "                # print(filename)\n",
    "                base64_string = pdf_to_base64(pdf_file_path)\n",
    "                parsed_data[i][\"Documents\"][0]['byteData']=base64_string\n",
    "with open(output_json_file_path, 'w') as json_file:\n",
    "    json.dump(parsed_data, json_file, indent=4)"
   ]
  },
  {
   "cell_type": "code",
   "execution_count": null,
   "id": "42c6c994-5fcf-4b76-b73f-bc0642da03ed",
   "metadata": {},
   "outputs": [],
   "source": []
  },
  {
   "cell_type": "code",
   "execution_count": 105,
   "id": "0e9d3bce-5f16-40fd-ba0c-abe468d47e9b",
   "metadata": {},
   "outputs": [],
   "source": []
  }
 ],
 "metadata": {
  "kernelspec": {
   "display_name": "Python 3 (ipykernel)",
   "language": "python",
   "name": "python3"
  },
  "language_info": {
   "codemirror_mode": {
    "name": "ipython",
    "version": 3
   },
   "file_extension": ".py",
   "mimetype": "text/x-python",
   "name": "python",
   "nbconvert_exporter": "python",
   "pygments_lexer": "ipython3",
   "version": "3.11.5"
  }
 },
 "nbformat": 4,
 "nbformat_minor": 5
}
